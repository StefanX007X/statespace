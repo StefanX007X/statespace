{
 "cells": [
  {
   "cell_type": "markdown",
   "id": "d21421f2-b8d6-4c74-801d-b4f2c6594c33",
   "metadata": {},
   "source": [
    "## Load Data from various Data Sources\n",
    "Load data with Pandas Datareader from:  \n",
    "* Tiingo\n",
    "* IEX\n",
    "* Alpha Vantage\n",
    "* Econdb\n",
    "* Enigma\n",
    "* Quandl\n",
    "* St.Louis FED (FRED)\n",
    "* Kenneth French’s data library\n",
    "* World Bank\n",
    "* OECD\n",
    "* Eurostat\n",
    "* Thrift Savings Plan\n",
    "* Nasdaq Trader symbol definitions\n",
    "* Stooq\n",
    "* MOEX\n",
    "* Naver Finance\n",
    "* Yahoo Finance\n",
    "\n",
    "Further Data Sources:\n",
    "* https://eodhistoricaldata.com  \n",
    "\n",
    "Docs: https://pydata.github.io/pandas-datareader/remote_data.html#remote-data-oecd"
   ]
  },
  {
   "cell_type": "code",
   "execution_count": 1,
   "id": "21c136d2-a7a0-406e-a6e7-2372fcf55d44",
   "metadata": {},
   "outputs": [],
   "source": [
    "import numpy as np\n",
    "import pandas as pd\n",
    "import matplotlib.pyplot as plt\n",
    "import requests\n",
    "import pandas_datareader.data as web\n",
    "from datetime import datetime\n",
    "from pandas_datareader import DataReader, wb\n",
    "from pandas_datareader.famafrench import get_available_datasets"
   ]
  },
  {
   "cell_type": "code",
   "execution_count": 3,
   "id": "4b6c8c85-7c80-49a3-9796-0a40e5acd00d",
   "metadata": {},
   "outputs": [],
   "source": [
    "def yahoo(symbol, start_date, end_date):\n",
    "    data = DataReader(symbol, 'yahoo', start_date, end_date)\n",
    "    data = data.reset_index()\n",
    "    data.columns = [string.lower() for string in data.columns]\n",
    "    data = data.set_index('date')\n",
    "    return data\n",
    "\n",
    "\n",
    "def stooq(symbol, start_date, end_date):\n",
    "    \"\"\"\n",
    "    Google finance doesn’t provide common index data download. \n",
    "    The Stooq site has the data for download.\n",
    "    \n",
    "    Indices: ^DJI, ^SPX\n",
    "    \"\"\"\n",
    "    data = DataReader(symbol, 'stooq', start_date, end_date)\n",
    "    return data\n",
    "\n",
    "\n",
    "def alphavantage(symbol, endpoint, start_date, end_date, API_key='6CW00BRWT0A7FTMF'):\n",
    "    \"\"\"\n",
    "    Alpha Vantage provides realtime equities and forex data. \n",
    "    Through the Alpha Vantage Time Series endpoints, it is possible to obtain \n",
    "    historical equities and currency rate data for individual symbols. \n",
    "    For daily, weekly, and monthly frequencies, 20+ years of historical data \n",
    "    is available. The past 3-5 days of intraday data is also available.\n",
    "\n",
    "    The following endpoints are available:\n",
    "\n",
    "    av-intraday - Intraday Time Series\n",
    "    av-daily - Daily Time Series\n",
    "    av-daily-adjusted - Daily Time Series (Adjusted)\n",
    "    av-weekly - Weekly Time Series\n",
    "    av-weekly-adjusted - Weekly Time Series (Adjusted)\n",
    "    av-monthly - Monthly Time Series\n",
    "    av-monthly-adjusted - Monthly Time Series (Adjusted)\n",
    "    av-forex-daily - Daily Time Series\n",
    "    \n",
    "    https://www.alphavantage.co/documentation/\n",
    "    \"\"\"\n",
    "    data = DataReader(symbol, endpoint, start=start_date, end=end_date, api_key=API_key)\n",
    "    return data\n",
    "\n",
    "\n",
    "\n",
    "def search_av_symbol(search, API_key='6CW00BRWT0A7FTMF'):\n",
    "    \"\"\"\n",
    "    The Search Endpoint returns the best-matching symbols and market \n",
    "    information based on keywords of your choice\n",
    "    \n",
    "    search_av_symbol('alphabet')\n",
    "    \"\"\"\n",
    "    url = f\"https://www.alphavantage.co/query?function=SYMBOL_SEARCH&keywords={search}&apikey={API_key}\"\n",
    "    r = requests.get(url)\n",
    "    data = r.json()\n",
    "    for match in data['bestMatches']:\n",
    "        print(f\"Symbol: {match['1. symbol']}\")\n",
    "        print(f\"Name:   {match['2. name']}\\n\")\n",
    "        \n",
    "        \n",
    "        \n",
    "def quandl(symbol, start_date, end_date, API_key='7ps1oZLG3TeuVnk3mmBP'):\n",
    "    \"\"\"\n",
    "    Quandl is now Nasdaq Data Link\n",
    "    Daily financial data (prices of stocks, ETFs etc.) from Quandl. The symbol names consist of two \n",
    "    parts: DB name and symbol name. DB names can be all the free ones listed on the Quandl website. \n",
    "    Symbol names vary with DB name; for WIKI (US stocks), they are the common ticker symbols, in \n",
    "    some other cases (such as FSE) they can be a bit strange. Some sources are also mapped to suitable \n",
    "    ISO country codes in the dot suffix style shown above, currently \n",
    "    available for BE, CN, DE, FR, IN, JP, NL, PT, UK, US.\n",
    "    \n",
    "    WIKI/GSPC ... S&P 500 \n",
    "    \"\"\"\n",
    "    data = web.DataReader(symbol, 'quandl', start_date, end_date)\n",
    "    return data\n",
    "\n",
    "\n",
    "\n",
    "def famafrench(symbol):\n",
    "    \"\"\"\n",
    "    Access datasets from the Fama/French Data Library. \n",
    "    get_available_datasets() -> function that returns a list of all available datasets\n",
    "    \n",
    "    http://mba.tuck.dartmouth.edu/pages/faculty/ken.french/data_library.html\n",
    "    \"\"\"\n",
    "    data = DataReader(symbol, 'famafrench')\n",
    "    return data\n",
    "\n",
    "\n",
    "\n",
    "def econdb():\n",
    "    \"\"\"\n",
    "    Econdb provides economic data from 90+ official statistical agencies. \n",
    "    Free API allows access to the complete Econdb database of time series aggregated into datasets.\n",
    "    \n",
    "    https://www.econdb.com/\n",
    "    \"\"\"\n",
    "    pass\n",
    "\n",
    "\n",
    "\n",
    "def fred(symbol, start_date, end_date):\n",
    "    \"\"\"\n",
    "    Economic Data from the Federal Reserve Bank St. Louis\n",
    "    https://fred.stlouisfed.org/\n",
    "    \"\"\"\n",
    "    data = DataReader(symbol, 'fred', start_date, end_date)\n",
    "    return data\n",
    "\n",
    "\n",
    "\n",
    "def worldbank(symbol, countries, start_date, end_date):\n",
    "    \"\"\"\n",
    "    Easily access thousands of panel data series from the World Bank’s \n",
    "    World Development Indicators by using the wb I/O functions.\n",
    "    \n",
    "    matches = wb.search(\"gdp.*capita.*const\")  --> Search for Indicators\n",
    "    \n",
    "    https://data.worldbank.org/\n",
    "    \"\"\"\n",
    "    data = wb.download(indicator=symbol, country=countries, start=start_date.year, end=end_date.year)\n",
    "    return data\n",
    "\n",
    "\n",
    "\n",
    "def oecd(symbol):\n",
    "    \"\"\"\n",
    "    OECD Statistics are available via DataReader. You have to specify OECD’s data set code.\n",
    "    \n",
    "    https://stats.oecd.org/\n",
    "    \"\"\"\n",
    "    data = DataReader(symbol, 'oecd')\n",
    "    return data\n",
    "\n",
    "\n",
    "\n",
    "def eurostat(symbol):\n",
    "    \"\"\"\n",
    "    European Statistics\n",
    "    \n",
    "    https://ec.europa.eu/eurostat/\n",
    "    \"\"\"\n",
    "    data = DataReader(symbol, 'eurostat') \n",
    "    return data"
   ]
  },
  {
   "cell_type": "markdown",
   "id": "67550c3d-e8e0-44a1-8c14-3c599d1ba586",
   "metadata": {},
   "source": [
    "### Load Data"
   ]
  },
  {
   "cell_type": "code",
   "execution_count": 4,
   "id": "647a7c17-0ab6-4a6d-9ce1-dd8042b7958e",
   "metadata": {},
   "outputs": [],
   "source": [
    "start_date = datetime(2000, 1, 1) \n",
    "end_date   = datetime(2022, 3, 18) \n",
    "freq = 'D' # W-Mon\n",
    "\n",
    "#data = yahoo(\"^VIX\", start_date, end_date, freq)\n",
    "data = alphavantage(\"DJI\", \"av-daily\", start_date, end_date)\n",
    "#data = quandl(\"EOD/SPXC\", start_date, end_date)\n",
    "#data = fred(\"GDP\", start_date, end_date)\n",
    "#data = famafrench(\"F-F_Research_Data_Factors\")\n",
    "#data = worldbank(\"NY.GDP.PCAP.KD\", ['US', 'CA', 'MX'], start_date, end_date)\n",
    "#data = oecd(\"TUD\")\n",
    "#data = eurostat(\"tran_sf_railac\")\n",
    "#data = stooq(\"^SPX\", start_date, end_date)"
   ]
  },
  {
   "cell_type": "code",
   "execution_count": 8,
   "id": "117ada5b-03d3-4c25-929c-92c649d5a0c9",
   "metadata": {},
   "outputs": [
    {
     "data": {
      "text/plain": [
       "<AxesSubplot:xlabel='date'>"
      ]
     },
     "execution_count": 8,
     "metadata": {},
     "output_type": "execute_result"
    },
    {
     "data": {
      "image/png": "[encoded data removed]",
      "text/plain": [
       "<Figure size 432x288 with 1 Axes>"
      ]
     },
     "metadata": {
      "needs_background": "light"
     },
     "output_type": "display_data"
    }
   ],
   "source": [
    "data.close.plot()"
   ]
  },
  {
   "cell_type": "markdown",
   "id": "af9f200e-3f8d-45d1-9c1d-bd06f672103e",
   "metadata": {},
   "source": [
    "### Save data to .csv "
   ]
  },
  {
   "cell_type": "code",
   "execution_count": 136,
   "id": "c4360871-b211-4853-9201-6d4153f66f3c",
   "metadata": {},
   "outputs": [],
   "source": [
    "path = \"C:/Users/Stefa/Documents/Uni/Projektassistenz/Financial Data/\"\n",
    "\n",
    "data.to_csv(path+'SP500_OHLC_stooq.csv', encoding='utf-8')"
   ]
  },
  {
   "cell_type": "code",
   "execution_count": 1,
   "id": "74b0e288-4d3e-4721-bf19-0a1b00e78bf2",
   "metadata": {},
   "outputs": [],
   "source": [
    "# Test"
   ]
  },
  {
   "cell_type": "code",
   "execution_count": null,
   "id": "7463c481-82e2-4cb8-bbc6-d10bf9cdc7e6",
   "metadata": {},
   "outputs": [],
   "source": []
  }
 ],
 "metadata": {
  "kernelspec": {
   "display_name": "Python 3",
   "language": "python",
   "name": "python3"
  },
  "language_info": {
   "codemirror_mode": {
    "name": "ipython",
    "version": 3
   },
   "file_extension": ".py",
   "mimetype": "text/x-python",
   "name": "python",
   "nbconvert_exporter": "python",
   "pygments_lexer": "ipython3",
   "version": "3.8.12"
  }
 },
 "nbformat": 4,
 "nbformat_minor": 5
}
